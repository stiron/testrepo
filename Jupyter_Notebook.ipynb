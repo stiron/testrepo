{
 "cells": [
  {
   "cell_type": "markdown",
   "metadata": {},
   "source": [
    "<center>\n",
    "    <img src=\"https://s3-api.us-geo.objectstorage.softlayer.net/cf-courses-data/CognitiveClass/Logos/organization_logo/organization_logo.png\" width=\"300\" alt=\"cognitiveclass.ai logo\"  />\n",
    "</center>\n"
   ]
  },
  {
   "cell_type": "markdown",
   "metadata": {},
   "source": [
    "#### Add your code below following the instructions given in the course\n"
   ]
  },
  {
   "cell_type": "markdown",
   "metadata": {},
   "source": [
    "<h1>My Jupyter Notebook on IBM Watson Studio</h1>"
   ]
  },
  {
   "cell_type": "markdown",
   "metadata": {},
   "source": [
    "<b>Seong Chol Lee</b>"
   ]
  },
  {
   "cell_type": "markdown",
   "metadata": {},
   "source": [
    "<i>I am interested in data science because it is going to be key point for a big trend of IT paradigm.</i> "
   ]
  },
  {
   "cell_type": "markdown",
   "metadata": {},
   "source": [
    "<h3> print string and value of some variables at one line"
   ]
  },
  {
   "cell_type": "code",
   "execution_count": 5,
   "metadata": {},
   "outputs": [
    {
     "name": "stdout",
     "output_type": "stream",
     "text": [
      "My favorate fruits are apple, grape and melon\n"
     ]
    }
   ],
   "source": [
    "a = \"apple\"\n",
    "b = \"grape\"\n",
    "c = \"melon\"\n",
    "print(f\"My favorate fruits are {a}, {b} and {c}\")"
   ]
  },
  {
   "cell_type": "markdown",
   "metadata": {},
   "source": [
    "<ol>\n",
    "    <li>apple</li>\n",
    "    <li>grape</li>\n",
    "    <li>melon</li>\n",
    "</ol>    \n",
    "<a href=\"www.ibm.com\">IBM</a>\n",
    "<table>\n",
    "  <tr>\n",
    "    <td>Order</td>\n",
    "    <td>fruit</td>\n",
    "  </tr>\n",
    "  <tr>\n",
    "    <td>1st</td>\n",
    "    <td>apple</td>\n",
    "  </tr>\n",
    "  <tr>\n",
    "    <td>2nd</td>\n",
    "    <td>grape</td>\n",
    "  </tr>\n",
    "  <tr>\n",
    "    <td>3re</td>\n",
    "    <td>melon</td>\n",
    "  </tr>  \n",
    "</table>"
   ]
  },
  {
   "cell_type": "code",
   "execution_count": null,
   "metadata": {},
   "outputs": [],
   "source": []
  }
 ],
 "metadata": {
  "kernelspec": {
   "display_name": "Python",
   "language": "python",
   "name": "conda-env-python-py"
  },
  "language_info": {
   "codemirror_mode": {
    "name": "ipython",
    "version": 3
   },
   "file_extension": ".py",
   "mimetype": "text/x-python",
   "name": "python",
   "nbconvert_exporter": "python",
   "pygments_lexer": "ipython3",
   "version": "3.7.12"
  }
 },
 "nbformat": 4,
 "nbformat_minor": 4
}
